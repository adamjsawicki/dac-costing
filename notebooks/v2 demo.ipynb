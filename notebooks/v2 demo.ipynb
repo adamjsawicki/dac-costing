{
 "cells": [
  {
   "cell_type": "code",
   "execution_count": 1,
   "metadata": {},
   "outputs": [],
   "source": [
    "import json\n",
    "\n",
    "from dac_costing.model import DacModel, DacSection, BatterySection, EnergySection"
   ]
  },
  {
   "cell_type": "markdown",
   "metadata": {},
   "source": [
    "## Model Parameters\n",
    "\n",
    "Here we open the default model parameters. We can modify these as needed..."
   ]
  },
  {
   "cell_type": "code",
   "execution_count": 2,
   "metadata": {},
   "outputs": [],
   "source": [
    "with open('../dac_costing/data/parameters.json', 'r') as f:\n",
    "    params = json.load(f)"
   ]
  },
  {
   "cell_type": "markdown",
   "metadata": {},
   "source": [
    "## C1 - Natural Gas"
   ]
  },
  {
   "cell_type": "code",
   "execution_count": 3,
   "metadata": {},
   "outputs": [
    {
     "ename": "ValueError",
     "evalue": "TODO: handle case with mismatched energy sources",
     "output_type": "error",
     "traceback": [
      "\u001b[0;31m---------------------------------------------------------------------------\u001b[0m",
      "\u001b[0;31mValueError\u001b[0m                                Traceback (most recent call last)",
      "\u001b[0;32m<ipython-input-3-3613582a8663>\u001b[0m in \u001b[0;36m<module>\u001b[0;34m\u001b[0m\n\u001b[1;32m      9\u001b[0m \u001b[0;34m\u001b[0m\u001b[0m\n\u001b[1;32m     10\u001b[0m \u001b[0mdac_all\u001b[0m \u001b[0;34m=\u001b[0m \u001b[0mDacModel\u001b[0m\u001b[0;34m(\u001b[0m\u001b[0melectric\u001b[0m\u001b[0;34m,\u001b[0m \u001b[0mthermal\u001b[0m\u001b[0;34m,\u001b[0m \u001b[0mdac\u001b[0m\u001b[0;34m,\u001b[0m \u001b[0;34m**\u001b[0m\u001b[0mparams\u001b[0m\u001b[0;34m)\u001b[0m\u001b[0;34m\u001b[0m\u001b[0;34m\u001b[0m\u001b[0m\n\u001b[0;32m---> 11\u001b[0;31m \u001b[0mdac_all\u001b[0m\u001b[0;34m.\u001b[0m\u001b[0mcompute\u001b[0m\u001b[0;34m(\u001b[0m\u001b[0;34m)\u001b[0m\u001b[0;34m.\u001b[0m\u001b[0mseries\u001b[0m\u001b[0;34m\u001b[0m\u001b[0;34m\u001b[0m\u001b[0m\n\u001b[0m",
      "\u001b[0;32m~/dac-costing/dac_costing/model.py\u001b[0m in \u001b[0;36mcompute\u001b[0;34m(self)\u001b[0m\n\u001b[1;32m    485\u001b[0m             \u001b[0mtev\u001b[0m \u001b[0;34m=\u001b[0m \u001b[0mself\u001b[0m\u001b[0;34m.\u001b[0m\u001b[0m_total_energy_block_costs\u001b[0m\u001b[0;34m(\u001b[0m\u001b[0mev\u001b[0m\u001b[0;34m,\u001b[0m \u001b[0mtv\u001b[0m\u001b[0;34m,\u001b[0m \u001b[0mcv\u001b[0m\u001b[0;34m)\u001b[0m\u001b[0;34m\u001b[0m\u001b[0;34m\u001b[0m\u001b[0m\n\u001b[1;32m    486\u001b[0m         \u001b[0;32melse\u001b[0m\u001b[0;34m:\u001b[0m\u001b[0;34m\u001b[0m\u001b[0;34m\u001b[0m\u001b[0m\n\u001b[0;32m--> 487\u001b[0;31m             \u001b[0;32mraise\u001b[0m \u001b[0mValueError\u001b[0m\u001b[0;34m(\u001b[0m\u001b[0;34m\"TODO: handle case with mismatched energy sources\"\u001b[0m\u001b[0;34m)\u001b[0m\u001b[0;34m\u001b[0m\u001b[0;34m\u001b[0m\u001b[0m\n\u001b[0m\u001b[1;32m    488\u001b[0m \u001b[0;34m\u001b[0m\u001b[0m\n\u001b[1;32m    489\u001b[0m         \u001b[0mdv\u001b[0m \u001b[0;34m=\u001b[0m \u001b[0mself\u001b[0m\u001b[0;34m.\u001b[0m\u001b[0m_dac\u001b[0m\u001b[0;34m.\u001b[0m\u001b[0mcompute\u001b[0m\u001b[0;34m(\u001b[0m\u001b[0;34m)\u001b[0m\u001b[0;34m.\u001b[0m\u001b[0mvalues\u001b[0m\u001b[0;34m\u001b[0m\u001b[0;34m\u001b[0m\u001b[0m\n",
      "\u001b[0;31mValueError\u001b[0m: TODO: handle case with mismatched energy sources"
     ]
    }
   ],
   "source": [
    "params['Base Energy Requierement [MW]'] = 47  # ='Report Data'!C58\n",
    "electric = EnergySection('NGCC w/ CCS', battery=None, **params)\n",
    "\n",
    "params['Base Energy Requierement [MW]'] = 0  # hardcoded\n",
    "thermal = EnergySection('Advanced NGCC', battery=None, **params)\n",
    "\n",
    "params['Total Capex [$]'] = 1029  # =+'Report Data'!C21\n",
    "dac = DacSection(**params)\n",
    "\n",
    "dac_all = DacModel(electric, thermal, dac, **params)\n",
    "dac_all.compute().series"
   ]
  },
  {
   "cell_type": "markdown",
   "metadata": {},
   "source": [
    "## C2 - Electric Kiln (Solar)"
   ]
  },
  {
   "cell_type": "code",
   "execution_count": 4,
   "metadata": {},
   "outputs": [
    {
     "data": {
      "text/plain": [
       "Total Capital Cost [M$]        3810.017201\n",
       "Capital Recovery [$/tCO2eq]     402.608230\n",
       "Fixed O+M [$/tCO2eq]             72.267854\n",
       "Variable O+M [$/tCO2eq]           4.000000\n",
       "Natural Gas Cost [$/tCO2]         0.000000\n",
       "Total Cost [$/tCO2]             478.876084\n",
       "dtype: float64"
      ]
     },
     "execution_count": 4,
     "metadata": {},
     "output_type": "execute_result"
    }
   ],
   "source": [
    "params['Base Energy Requierement [MW]'] = 38  # ='Report Data'!C64\n",
    "ebattery = BatterySection(**params)\n",
    "electric = EnergySection('Solar', battery=ebattery, **params)\n",
    "\n",
    "params['Base Energy Requierement [MW]'] = 234  # =F18\n",
    "tbattery = BatterySection(**params)\n",
    "thermal = EnergySection('Solar', battery=tbattery, **params)\n",
    "\n",
    "params['Total Capex [$]'] = 936.01  # ='Report Data'!H27\n",
    "dac = DacSection(**params)\n",
    "\n",
    "dac_all = DacModel(electric, thermal, dac, **params)\n",
    "dac_all.compute().series"
   ]
  },
  {
   "cell_type": "markdown",
   "metadata": {},
   "source": [
    "## C3 - Electric Kiln (Nuclear)"
   ]
  },
  {
   "cell_type": "code",
   "execution_count": 5,
   "metadata": {},
   "outputs": [
    {
     "ename": "AssertionError",
     "evalue": "",
     "output_type": "error",
     "traceback": [
      "\u001b[0;31m---------------------------------------------------------------------------\u001b[0m",
      "\u001b[0;31mAssertionError\u001b[0m                            Traceback (most recent call last)",
      "\u001b[0;32m<ipython-input-5-230b519c513b>\u001b[0m in \u001b[0;36m<module>\u001b[0;34m\u001b[0m\n\u001b[1;32m      1\u001b[0m \u001b[0mparams\u001b[0m\u001b[0;34m[\u001b[0m\u001b[0;34m'Base Energy Requierement [MW]'\u001b[0m\u001b[0;34m]\u001b[0m \u001b[0;34m=\u001b[0m \u001b[0;36m38\u001b[0m  \u001b[0;31m# ='Report Data'!C64\u001b[0m\u001b[0;34m\u001b[0m\u001b[0;34m\u001b[0m\u001b[0m\n\u001b[0;32m----> 2\u001b[0;31m \u001b[0melectric\u001b[0m \u001b[0;34m=\u001b[0m \u001b[0mEnergySection\u001b[0m\u001b[0;34m(\u001b[0m\u001b[0;34m'Advanced Nuclear'\u001b[0m\u001b[0;34m,\u001b[0m \u001b[0mbattery\u001b[0m\u001b[0;34m=\u001b[0m\u001b[0;32mNone\u001b[0m\u001b[0;34m,\u001b[0m \u001b[0;34m**\u001b[0m\u001b[0mparams\u001b[0m\u001b[0;34m)\u001b[0m\u001b[0;34m\u001b[0m\u001b[0;34m\u001b[0m\u001b[0m\n\u001b[0m\u001b[1;32m      3\u001b[0m \u001b[0;34m\u001b[0m\u001b[0m\n\u001b[1;32m      4\u001b[0m \u001b[0mparams\u001b[0m\u001b[0;34m[\u001b[0m\u001b[0;34m'Base Energy Requierement [MW]'\u001b[0m\u001b[0;34m]\u001b[0m \u001b[0;34m=\u001b[0m \u001b[0;36m234\u001b[0m  \u001b[0;31m# =F18\u001b[0m\u001b[0;34m\u001b[0m\u001b[0;34m\u001b[0m\u001b[0m\n\u001b[1;32m      5\u001b[0m \u001b[0mthermal\u001b[0m \u001b[0;34m=\u001b[0m \u001b[0mEnergySection\u001b[0m\u001b[0;34m(\u001b[0m\u001b[0;34m'Advanced Nuclear'\u001b[0m\u001b[0;34m,\u001b[0m \u001b[0mbattery\u001b[0m\u001b[0;34m=\u001b[0m\u001b[0;32mNone\u001b[0m\u001b[0;34m,\u001b[0m \u001b[0;34m**\u001b[0m\u001b[0mparams\u001b[0m\u001b[0;34m)\u001b[0m\u001b[0;34m\u001b[0m\u001b[0;34m\u001b[0m\u001b[0m\n",
      "\u001b[0;32m~/dac-costing/dac_costing/model.py\u001b[0m in \u001b[0;36m__init__\u001b[0;34m(self, source, battery, **params)\u001b[0m\n\u001b[1;32m    117\u001b[0m \u001b[0;34m\u001b[0m\u001b[0m\n\u001b[1;32m    118\u001b[0m         \u001b[0mself\u001b[0m\u001b[0;34m.\u001b[0m\u001b[0m_source\u001b[0m \u001b[0;34m=\u001b[0m \u001b[0msource\u001b[0m\u001b[0;34m\u001b[0m\u001b[0;34m\u001b[0m\u001b[0m\n\u001b[0;32m--> 119\u001b[0;31m         \u001b[0;32massert\u001b[0m \u001b[0mself\u001b[0m\u001b[0;34m.\u001b[0m\u001b[0m_source\u001b[0m \u001b[0;32min\u001b[0m \u001b[0;34m[\u001b[0m\u001b[0;34m\"NGCC w/ CCS\"\u001b[0m\u001b[0;34m,\u001b[0m \u001b[0;34m\"Advanced NGCC\"\u001b[0m\u001b[0;34m,\u001b[0m \u001b[0;34m\"Solar\"\u001b[0m\u001b[0;34m,\u001b[0m \u001b[0;34m\"Wind\"\u001b[0m\u001b[0;34m]\u001b[0m\u001b[0;34m\u001b[0m\u001b[0;34m\u001b[0m\u001b[0m\n\u001b[0m\u001b[1;32m    120\u001b[0m \u001b[0;34m\u001b[0m\u001b[0m\n\u001b[1;32m    121\u001b[0m         \u001b[0;32mif\u001b[0m \u001b[0misinstance\u001b[0m\u001b[0;34m(\u001b[0m\u001b[0mbattery\u001b[0m\u001b[0;34m,\u001b[0m \u001b[0mBatterySection\u001b[0m\u001b[0;34m)\u001b[0m \u001b[0;32mor\u001b[0m \u001b[0mbattery\u001b[0m \u001b[0;32mis\u001b[0m \u001b[0;32mNone\u001b[0m\u001b[0;34m:\u001b[0m\u001b[0;34m\u001b[0m\u001b[0;34m\u001b[0m\u001b[0m\n",
      "\u001b[0;31mAssertionError\u001b[0m: "
     ]
    }
   ],
   "source": [
    "params['Base Energy Requierement [MW]'] = 38  # ='Report Data'!C64\n",
    "electric = EnergySection('Advanced Nuclear', battery=None, **params)\n",
    "\n",
    "params['Base Energy Requierement [MW]'] = 234  # =F18\n",
    "thermal = EnergySection('Advanced Nuclear', battery=None, **params)\n",
    "\n",
    "params['Total Capex [$]'] = 936.01  # ='Report Data'!H27\n",
    "dac = DacSection(**params)\n",
    "\n",
    "dac_all = DacModel(electric, thermal, dac, **params)\n",
    "dac_all.compute().series"
   ]
  },
  {
   "cell_type": "markdown",
   "metadata": {},
   "source": [
    "## C4 - Electric Kiln (Solar)"
   ]
  },
  {
   "cell_type": "code",
   "execution_count": 6,
   "metadata": {},
   "outputs": [
    {
     "data": {
      "text/plain": [
       "Total Capital Cost [M$]        3045.006965\n",
       "Capital Recovery [$/tCO2eq]     321.768853\n",
       "Fixed O+M [$/tCO2eq]             67.867058\n",
       "Variable O+M [$/tCO2eq]           4.000000\n",
       "Natural Gas Cost [$/tCO2]         0.000000\n",
       "Total Cost [$/tCO2]             393.635911\n",
       "dtype: float64"
      ]
     },
     "execution_count": 6,
     "metadata": {},
     "output_type": "execute_result"
    }
   ],
   "source": [
    "params['Base Energy Requierement [MW]'] = 38  # ='Report Data'!C64\n",
    "ebattery = BatterySection(**params)\n",
    "electric = EnergySection('Wind', battery=ebattery, **params)\n",
    "\n",
    "params['Base Energy Requierement [MW]'] = 234  # =F18\n",
    "tbattery = BatterySection(**params)\n",
    "thermal = EnergySection('Wind', battery=tbattery, **params)\n",
    "\n",
    "params['Total Capex [$]'] = 936.01  # ='Report Data'!H27\n",
    "dac = DacSection(**params)\n",
    "\n",
    "dac_all = DacModel(electric, thermal, dac, **params)\n",
    "dac_all.compute().series"
   ]
  },
  {
   "cell_type": "code",
   "execution_count": null,
   "metadata": {},
   "outputs": [],
   "source": []
  }
 ],
 "metadata": {
  "kernelspec": {
   "display_name": "carbonplan38",
   "language": "python",
   "name": "carbonplan38"
  },
  "language_info": {
   "codemirror_mode": {
    "name": "ipython",
    "version": 3
   },
   "file_extension": ".py",
   "mimetype": "text/x-python",
   "name": "python",
   "nbconvert_exporter": "python",
   "pygments_lexer": "ipython3",
   "version": "3.8.2"
  }
 },
 "nbformat": 4,
 "nbformat_minor": 4
}
