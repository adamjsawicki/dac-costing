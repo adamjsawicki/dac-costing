{
 "cells": [
  {
   "cell_type": "code",
   "execution_count": 1,
   "metadata": {},
   "outputs": [],
   "source": [
    "%load_ext autoreload\n",
    "%autoreload 2\n",
    "\n",
    "import json\n",
    "\n",
    "from dac_costing.model import DacModel, DacSection, BatterySection, EnergySection"
   ]
  },
  {
   "cell_type": "markdown",
   "metadata": {},
   "source": [
    "## Model Parameters\n",
    "\n",
    "Here we open the default model parameters. We can modify these as needed..."
   ]
  },
  {
   "cell_type": "code",
   "execution_count": 2,
   "metadata": {},
   "outputs": [],
   "source": [
    "with open('../dac_costing/data/parameters.json', 'r') as f:\n",
    "    params = json.load(f)"
   ]
  },
  {
   "cell_type": "code",
   "execution_count": 3,
   "metadata": {},
   "outputs": [],
   "source": [
    "from uncertainties import ufloat\n",
    "stdev = 0.1\n",
    "\n",
    "def cast_to_ufloat(d):\n",
    "    u = {}\n",
    "    for p, val in d.items():\n",
    "        if isinstance(val, dict):\n",
    "            u[p] = cast_to_ufloat(val)\n",
    "        if isinstance(val, float):\n",
    "            u[p] = ufloat(val, val*stdev, tag=p)\n",
    "        else:\n",
    "            u[p] = val\n",
    "    return u\n",
    "\n",
    "params = cast_to_ufloat(params)"
   ]
  },
  {
   "cell_type": "markdown",
   "metadata": {},
   "source": [
    "## C1 - Natural Gas"
   ]
  },
  {
   "cell_type": "code",
   "execution_count": 4,
   "metadata": {},
   "outputs": [],
   "source": [
    "from dac_costing.model import NgThermalSection"
   ]
  },
  {
   "cell_type": "code",
   "execution_count": 5,
   "metadata": {},
   "outputs": [
    {
     "data": {
      "text/plain": [
       "Total Capital Cost [M$]          1479+/-24\n",
       "Capital Recovery [$/tCO2eq]       156+/-12\n",
       "Fixed O&M [$/tCO2eq]               36.3977\n",
       "Variable O&M [$/tCO2eq]        6.14+/-0.21\n",
       "Natural Gas Cost [$/tCO2]       30.5+/-3.2\n",
       "Total Cost [$/tCO2]               229+/-13\n",
       "dtype: object"
      ]
     },
     "execution_count": 5,
     "metadata": {},
     "output_type": "execute_result"
    }
   ],
   "source": [
    "params['Base Energy Requierement [MW]'] = 46.6  # ='Report Data'!C58\n",
    "electric = EnergySection('NGCC w/ CCS', battery=None, **params)\n",
    "electric.compute().series\n",
    "\n",
    "params['Required Thermal Energy [GJ/tCO2]'] = 6.64\n",
    "thermal = NgThermalSection('Advanced NGCC', battery=None, **params)\n",
    "\n",
    "params['Total Capex [$]'] = 1029  # =+'Report Data'!C21\n",
    "dac = DacSection(**params)\n",
    "dac_all = DacModel(electric, thermal, dac, **params)\n",
    "dac_all.compute().series"
   ]
  },
  {
   "cell_type": "markdown",
   "metadata": {},
   "source": [
    "## C2 - Electric Kiln (Solar)"
   ]
  },
  {
   "cell_type": "code",
   "execution_count": 6,
   "metadata": {},
   "outputs": [
    {
     "data": {
      "text/plain": [
       "Total Capital Cost [M$]        3759+/-32\n",
       "Capital Recovery [$/tCO2eq]     397+/-28\n",
       "Fixed O&M [$/tCO2eq]             72.2679\n",
       "Variable O&M [$/tCO2eq]          4.0+/-0\n",
       "Natural Gas Cost [$/tCO2]        0.0+/-0\n",
       "Total Cost [$/tCO2]             473+/-28\n",
       "dtype: object"
      ]
     },
     "execution_count": 6,
     "metadata": {},
     "output_type": "execute_result"
    }
   ],
   "source": [
    "params['Base Energy Requierement [MW]'] = 38  # ='Report Data'!C64\n",
    "ebattery = BatterySection(**params)\n",
    "electric = EnergySection('Solar', battery=ebattery, **params)\n",
    "\n",
    "params['Base Energy Requierement [MW]'] = 234  # =F18\n",
    "tbattery = BatterySection(**params)\n",
    "thermal = EnergySection('Solar', battery=tbattery, **params)\n",
    "\n",
    "params['Total Capex [$]'] = 936.01  # ='Report Data'!H27\n",
    "dac = DacSection(**params)\n",
    "\n",
    "dac_all = DacModel(electric, thermal, dac, **params)\n",
    "dac_all.compute().series"
   ]
  },
  {
   "cell_type": "markdown",
   "metadata": {},
   "source": [
    "## C3 - Electric Kiln (Nuclear)"
   ]
  },
  {
   "cell_type": "code",
   "execution_count": 7,
   "metadata": {},
   "outputs": [
    {
     "data": {
      "text/plain": [
       "Total Capital Cost [M$]        (6.39+/-0.17)e+03\n",
       "Capital Recovery [$/tCO2eq]      (6.8+/-0.6)e+02\n",
       "Fixed O&M [$/tCO2eq]                     109.415\n",
       "Variable O&M [$/tCO2eq]                9.1+/-0.5\n",
       "Natural Gas Cost [$/tCO2]                77+/-11\n",
       "Total Cost [$/tCO2]              (8.7+/-0.6)e+02\n",
       "dtype: object"
      ]
     },
     "execution_count": 7,
     "metadata": {},
     "output_type": "execute_result"
    }
   ],
   "source": [
    "params['Base Energy Requierement [MW]'] = 38  # ='Report Data'!C64\n",
    "electric = EnergySection('Advanced Nuclear', battery=None, **params)\n",
    "\n",
    "params['Base Energy Requierement [MW]'] = 234  # =F18\n",
    "thermal = EnergySection('Advanced Nuclear', battery=None, **params)\n",
    "\n",
    "params['Total Capex [$]'] = 936.01  # ='Report Data'!H27\n",
    "dac = DacSection(**params)\n",
    "\n",
    "dac_all = DacModel(electric, thermal, dac, **params)\n",
    "dac_all.compute().series"
   ]
  },
  {
   "cell_type": "markdown",
   "metadata": {},
   "source": [
    "## C4 - Electric Kiln (Solar)"
   ]
  },
  {
   "cell_type": "code",
   "execution_count": 8,
   "metadata": {},
   "outputs": [
    {
     "data": {
      "text/plain": [
       "Total Capital Cost [M$]        3045+/-31\n",
       "Capital Recovery [$/tCO2eq]     322+/-23\n",
       "Fixed O&M [$/tCO2eq]             67.8671\n",
       "Variable O&M [$/tCO2eq]          4.0+/-0\n",
       "Natural Gas Cost [$/tCO2]        0.0+/-0\n",
       "Total Cost [$/tCO2]             394+/-23\n",
       "dtype: object"
      ]
     },
     "execution_count": 8,
     "metadata": {},
     "output_type": "execute_result"
    }
   ],
   "source": [
    "params['Base Energy Requierement [MW]'] = 38  # ='Report Data'!C64\n",
    "ebattery = BatterySection(**params)\n",
    "electric = EnergySection('Wind', battery=ebattery, **params)\n",
    "\n",
    "params['Base Energy Requierement [MW]'] = 234  # =F18\n",
    "tbattery = BatterySection(**params)\n",
    "thermal = EnergySection('Wind', battery=tbattery, **params)\n",
    "\n",
    "params['Total Capex [$]'] = 936.01  # ='Report Data'!H27\n",
    "dac = DacSection(**params)\n",
    "\n",
    "dac_all = DacModel(electric, thermal, dac, **params)\n",
    "dac_all.compute().series"
   ]
  },
  {
   "cell_type": "code",
   "execution_count": null,
   "metadata": {},
   "outputs": [],
   "source": []
  }
 ],
 "metadata": {
  "kernelspec": {
   "display_name": "Python 3",
   "language": "python",
   "name": "python3"
  },
  "language_info": {
   "codemirror_mode": {
    "name": "ipython",
    "version": 3
   },
   "file_extension": ".py",
   "mimetype": "text/x-python",
   "name": "python",
   "nbconvert_exporter": "python",
   "pygments_lexer": "ipython3",
   "version": "3.8.2"
  }
 },
 "nbformat": 4,
 "nbformat_minor": 4
}
