{
 "cells": [
  {
   "cell_type": "code",
   "execution_count": null,
   "metadata": {},
   "outputs": [],
   "source": [
    "import json\n",
    "\n",
    "with open('./params.json', 'r') as f:\n",
    "    params = json.load(f)\n",
    "\n",
    "params['Base Energy Requierement [MW]'] = 47"
   ]
  },
  {
   "cell_type": "code",
   "execution_count": 2,
   "metadata": {},
   "outputs": [],
   "source": [
    "from model import DacModel, DacSection, BatterySection, EnergySection"
   ]
  },
  {
   "cell_type": "code",
   "execution_count": 3,
   "metadata": {},
   "outputs": [],
   "source": [
    "thermal_battery = BatterySection(**params)\n",
    "thermal = EnergySection('Wind', battery=thermal_battery, **params)\n",
    "\n",
    "electric_battery = BatterySection(**params)\n",
    "electric = EnergySection('Wind', battery=electric_battery, **params)\n",
    "\n",
    "dac = DacSection(**params)"
   ]
  },
  {
   "cell_type": "code",
   "execution_count": 4,
   "metadata": {},
   "outputs": [],
   "source": [
    "dac_all = DacModel(electric, thermal, dac, **params)"
   ]
  },
  {
   "cell_type": "code",
   "execution_count": 5,
   "metadata": {},
   "outputs": [
    {
     "data": {
      "text/plain": [
       "Total Capital Cost [M$]        1811.593085\n",
       "Capital Recovery [$/tCO2eq]     191.432806\n",
       "Fixed O+M [$/tCO2eq]             46.342652\n",
       "Variable O+M [$/tCO2eq]           4.000000\n",
       "Natural Gas Cost [$/tCO2]         0.000000\n",
       "Total Cost [$/tCO2]             241.775458\n",
       "dtype: float64"
      ]
     },
     "execution_count": 5,
     "metadata": {},
     "output_type": "execute_result"
    }
   ],
   "source": [
    "dac_all.compute().series"
   ]
  },
  {
   "cell_type": "code",
   "execution_count": 6,
   "metadata": {},
   "outputs": [],
   "source": [
    "from widget import CostWidget"
   ]
  },
  {
   "cell_type": "code",
   "execution_count": 7,
   "metadata": {},
   "outputs": [
    {
     "data": {
      "application/vnd.jupyter.widget-view+json": {
       "model_id": "",
       "version_major": 2,
       "version_minor": 0
      },
      "text/plain": [
       "AppLayout(children=(HTML(value='\\n        <h1> DAC Cost Estimator </h1>\\n\\n        <b>By NOAH MCQUEEN and JOE …"
      ]
     },
     "metadata": {},
     "output_type": "display_data"
    }
   ],
   "source": [
    "CostWidget(dac_all).app"
   ]
  },
  {
   "cell_type": "code",
   "execution_count": null,
   "metadata": {},
   "outputs": [],
   "source": []
  }
 ],
 "metadata": {
  "kernelspec": {
   "display_name": "carbonplan38",
   "language": "python",
   "name": "carbonplan38"
  },
  "language_info": {
   "codemirror_mode": {
    "name": "ipython",
    "version": 3
   },
   "file_extension": ".py",
   "mimetype": "text/x-python",
   "name": "python",
   "nbconvert_exporter": "python",
   "pygments_lexer": "ipython3",
   "version": "3.8.2"
  }
 },
 "nbformat": 4,
 "nbformat_minor": 4
}
